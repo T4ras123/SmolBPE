{
 "cells": [
  {
   "cell_type": "markdown",
   "metadata": {},
   "source": [
    "# Tokenization"
   ]
  },
  {
   "cell_type": "code",
   "execution_count": 1,
   "metadata": {},
   "outputs": [],
   "source": [
    "a = \"안녕하세요 👋 (hello in Korean!)\""
   ]
  },
  {
   "cell_type": "code",
   "execution_count": 2,
   "metadata": {},
   "outputs": [
    {
     "data": {
      "text/plain": [
       "[50504,\n",
       " 45397,\n",
       " 54616,\n",
       " 49464,\n",
       " 50836,\n",
       " 32,\n",
       " 128075,\n",
       " 32,\n",
       " 40,\n",
       " 104,\n",
       " 101,\n",
       " 108,\n",
       " 108,\n",
       " 111,\n",
       " 32,\n",
       " 105,\n",
       " 110,\n",
       " 32,\n",
       " 75,\n",
       " 111,\n",
       " 114,\n",
       " 101,\n",
       " 97,\n",
       " 110,\n",
       " 33,\n",
       " 41]"
      ]
     },
     "execution_count": 2,
     "metadata": {},
     "output_type": "execute_result"
    }
   ],
   "source": [
    "[ord(ch) for ch in a]"
   ]
  },
  {
   "cell_type": "code",
   "execution_count": 3,
   "metadata": {},
   "outputs": [
    {
     "data": {
      "text/plain": [
       "[236,\n",
       " 149,\n",
       " 136,\n",
       " 235,\n",
       " 133,\n",
       " 149,\n",
       " 237,\n",
       " 149,\n",
       " 152,\n",
       " 236,\n",
       " 132,\n",
       " 184,\n",
       " 236,\n",
       " 154,\n",
       " 148,\n",
       " 32,\n",
       " 240,\n",
       " 159,\n",
       " 145,\n",
       " 139,\n",
       " 32,\n",
       " 40,\n",
       " 104,\n",
       " 101,\n",
       " 108,\n",
       " 108,\n",
       " 111,\n",
       " 32,\n",
       " 105,\n",
       " 110,\n",
       " 32,\n",
       " 75,\n",
       " 111,\n",
       " 114,\n",
       " 101,\n",
       " 97,\n",
       " 110,\n",
       " 33,\n",
       " 41]"
      ]
     },
     "execution_count": 3,
     "metadata": {},
     "output_type": "execute_result"
    }
   ],
   "source": [
    "list(a.encode('utf-8'))"
   ]
  },
  {
   "cell_type": "code",
   "execution_count": 4,
   "metadata": {},
   "outputs": [
    {
     "data": {
      "text/plain": [
       "114"
      ]
     },
     "execution_count": 4,
     "metadata": {},
     "output_type": "execute_result"
    }
   ],
   "source": [
    "text = \"\"\"A Programmer’s Introduction to Unicode March 3, 2017 · Coding · 22 Comments  Ｕｎｉｃｏｄｅ! 🅤🅝🅘🅒🅞🅓🅔‽ 🇺\\u200c🇳\\u200c🇮\\u200c🇨\\u200c🇴\\u200c🇩\\u200c🇪! 😄 The very name strikes fear and awe into the hearts of programmers worldwide. We all know we ought to “support Unicode” in our software (whatever that means—like using wchar_t for all the strings, right?). But Unicode can be abstruse, and diving into the thousand-page Unicode Standard plus its dozens of supplementary annexes, reports, and notes can be more than a little intimidating. I don’t blame programmers for still finding the whole thing mysterious, even 30 years after Unicode’s inception.  A few months ago, I got interested in Unicode and decided to spend some time learning more about it in detail. In this article, I’ll give an introduction to it from a programmer’s point of view.  I’m going to focus on the character set and what’s involved in working with strings and files of Unicode text. However, in this article I’m not going to talk about fonts, text layout/shaping/rendering, or localization in detail—those are separate issues, beyond my scope (and knowledge) here.  Diversity and Inherent Complexity The Unicode Codespace Codespace Allocation Scripts Usage Frequency Encodings UTF-8 UTF-16 Combining Marks Canonical Equivalence Normalization Forms Grapheme Clusters And More… Diversity and Inherent Complexity As soon as you start to study Unicode, it becomes clear that it represents a large jump in complexity over character sets like ASCII that you may be more familiar with. It’s not just that Unicode contains a much larger number of characters, although that’s part of it. Unicode also has a great deal of internal structure, features, and special cases, making it much more than what one might expect a mere “character set” to be. We’ll see some of that later in this article.  When confronting all this complexity, especially as an engineer, it’s hard not to find oneself asking, “Why do we need all this? Is this really necessary? Couldn’t it be simplified?”  However, Unicode aims to faithfully represent the entire world’s writing systems. The Unicode Consortium’s stated goal is “enabling people around the world to use computers in any language”. And as you might imagine, the diversity of written languages is immense! To date, Unicode supports 135 different scripts, covering some 1100 languages, and there’s still a long tail of over 100 unsupported scripts, both modern and historical, which people are still working to add.  Given this enormous diversity, it’s inevitable that representing it is a complicated project. Unicode embraces that diversity, and accepts the complexity inherent in its mission to include all human writing systems. It doesn’t make a lot of trade-offs in the name of simplification, and it makes exceptions to its own rules where necessary to further its mission.  Moreover, Unicode is committed not just to supporting texts in any single language, but also to letting multiple languages coexist within one text—which introduces even more complexity.  Most programming languages have libraries available to handle the gory low-level details of text manipulation, but as a programmer, you’ll still need to know about certain Unicode features in order to know when and how to apply them. It may take some time to wrap your head around it all, but don’t be discouraged—think about the billions of people for whom your software will be more accessible through supporting text in their language. Embrace the complexity!  The Unicode Codespace Let’s start with some general orientation. The basic elements of Unicode—its “characters”, although that term isn’t quite right—are called code points. Code points are identified by number, customarily written in hexadecimal with the prefix “U+”, such as U+0041 “A” latin capital letter a or U+03B8 “θ” greek small letter theta. Each code point also has a short name, and quite a few other properties, specified in the Unicode Character Database.  The set of all possible code points is called the codespace. The Unicode codespace consists of 1,114,112 code points. However, only 128,237 of them—about 12% of the codespace—are actually assigned, to date. There’s plenty of room for growth! Unicode also reserves an additional 137,468 code points as “private use” areas, which have no standardized meaning and are available for individual applications to define for their own purposes.  Codespace Allocation To get a feel for how the codespace is laid out, it’s helpful to visualize it. Below is a map of the entire codespace, with one pixel per code point. It’s arranged in tiles for visual coherence; each small square is 16×16 = 256 code points, and each large square is a “plane” of 65,536 code points. There are 17 planes altogether.  Map of the Unicode codespace (click to zoom)  White represents unassigned space. Blue is assigned code points, green is private-use areas, and the small red area is surrogates (more about those later). As you can see, the assigned code points are distributed somewhat sparsely, but concentrated in the first three planes.  Plane 0 is also known as the “Basic Multilingual Plane”, or BMP. The BMP contains essentially all the characters needed for modern text in any script, including Latin, Cyrillic, Greek, Han (Chinese), Japanese, Korean, Arabic, Hebrew, Devanagari (Indian), and many more.  (In the past, the codespace was just the BMP and no more—Unicode was originally conceived as a straightforward 16-bit encoding, with only 65,536 code points. It was expanded to its current size in 1996. However, the vast majority of code points in modern text belong to the BMP.)  Plane 1 contains historical scripts, such as Sumerian cuneiform and Egyptian hieroglyphs, as well as emoji and various other symbols. Plane 2 contains a large block of less-common and historical Han characters. The remaining planes are empty, except for a small number of rarely-used formatting characters in Plane 14; planes 15–16 are reserved entirely for private use.  Scripts Let’s zoom in on the first three planes, since that’s where the action is:  Map of scripts in Unicode planes 0–2 (click to zoom)  This map color-codes the 135 different scripts in Unicode. You can see how Han () and Korean () take up most of the range of the BMP (the left large square). By contrast, all of the European, Middle Eastern, and South Asian scripts fit into the first row of the BMP in this diagram.  Many areas of the codespace are adapted or copied from earlier encodings. For example, the first 128 code points of Unicode are just a copy of ASCII. This has clear benefits for compatibility—it’s easy to losslessly convert texts from smaller encodings into Unicode (and the other direction too, as long as no characters outside the smaller encoding are used).  Usage Frequency One more interesting way to visualize the codespace is to look at the distribution of usage—in other words, how often each code point is actually used in real-world texts. Below is a heat map of planes 0–2 based on a large sample of text from Wikipedia and Twitter (all languages). Frequency increases from black (never seen) through red and yellow to white.  Heat map of code point usage frequency in Unicode planes 0–2 (click to zoom)  You can see that the vast majority of this text sample lies in the BMP, with only scattered usage of code points from planes 1–2. The biggest exception is emoji, which show up here as the several bright squares in the bottom row of plane 1.  Encodings We’ve seen that Unicode code points are abstractly identified by their index in the codespace, ranging from U+0000 to U+10FFFF. But how do code points get represented as bytes, in memory or in a file?  The most convenient, computer-friendliest (and programmer-friendliest) thing to do would be to just store the code point index as a 32-bit integer. This works, but it consumes 4 bytes per code point, which is sort of a lot. Using 32-bit ints for Unicode will cost you a bunch of extra storage, memory, and performance in bandwidth-bound scenarios, if you work with a lot of text.  Consequently, there are several more-compact encodings for Unicode. The 32-bit integer encoding is officially called UTF-32 (UTF = “Unicode Transformation Format”), but it’s rarely used for storage. At most, it comes up sometimes as a temporary internal representation, for examining or operating on the code points in a string.  Much more commonly, you’ll see Unicode text encoded as either UTF-8 or UTF-16. These are both variable-length encodings, made up of 8-bit or 16-bit units, respectively. In these schemes, code points with smaller index values take up fewer bytes, which saves a lot of memory for typical texts. The trade-off is that processing UTF-8/16 texts is more programmatically involved, and likely slower.  UTF-8 In UTF-8, each code point is stored using 1 to 4 bytes, based on its index value.  UTF-8 uses a system of binary prefixes, in which the high bits of each byte mark whether it’s a single byte, the beginning of a multi-byte sequence, or a continuation byte; the remaining bits, concatenated, give the code point index. This table shows how it works:  UTF-8 (binary)\\tCode point (binary)\\tRange 0xxxxxxx\\txxxxxxx\\tU+0000–U+007F 110xxxxx 10yyyyyy\\txxxxxyyyyyy\\tU+0080–U+07FF 1110xxxx 10yyyyyy 10zzzzzz\\txxxxyyyyyyzzzzzz\\tU+0800–U+FFFF 11110xxx 10yyyyyy 10zzzzzz 10wwwwww\\txxxyyyyyyzzzzzzwwwwww\\tU+10000–U+10FFFF A handy property of UTF-8 is that code points below 128 (ASCII characters) are encoded as single bytes, and all non-ASCII code points are encoded using sequences of bytes 128–255. This has a couple of nice consequences. First, any strings or files out there that are already in ASCII can also be interpreted as UTF-8 without any conversion. Second, lots of widely-used string programming idioms—such as null termination, or delimiters (newlines, tabs, commas, slashes, etc.)—will just work on UTF-8 strings. ASCII bytes never occur inside the encoding of non-ASCII code points, so searching byte-wise for a null terminator or a delimiter will do the right thing.  Thanks to this convenience, it’s relatively simple to extend legacy ASCII programs and APIs to handle UTF-8 strings. UTF-8 is very widely used in the Unix/Linux and Web worlds, and many programmers argue UTF-8 should be the default encoding everywhere.  However, UTF-8 isn’t a drop-in replacement for ASCII strings in all respects. For instance, code that iterates over the “characters” in a string will need to decode UTF-8 and iterate over code points (or maybe grapheme clusters—more about those later), not bytes. When you measure the “length” of a string, you’ll need to think about whether you want the length in bytes, the length in code points, the width of the text when rendered, or something else.  UTF-16 The other encoding that you’re likely to encounter is UTF-16. It uses 16-bit words, with each code point stored as either 1 or 2 words.  Like UTF-8, we can express the UTF-16 encoding rules in the form of binary prefixes:  UTF-16 (binary)\\tCode point (binary)\\tRange xxxxxxxxxxxxxxxx\\txxxxxxxxxxxxxxxx\\tU+0000–U+FFFF 110110xxxxxxxxxx 110111yyyyyyyyyy\\txxxxxxxxxxyyyyyyyyyy + 0x10000\\tU+10000–U+10FFFF A more common way that people talk about UTF-16 encoding, though, is in terms of code points called “surrogates”. All the code points in the range U+D800–U+DFFF—or in other words, the code points that match the binary prefixes 110110 and 110111 in the table above—are reserved specifically for UTF-16 encoding, and don’t represent any valid characters on their own. They’re only meant to occur in the 2-word encoding pattern above, which is called a “surrogate pair”. Surrogate code points are illegal in any other context! They’re not allowed in UTF-8 or UTF-32 at all.  Historically, UTF-16 is a descendant of the original, pre-1996 versions of Unicode, in which there were only 65,536 code points. The original intention was that there would be no different “encodings”; Unicode was supposed to be a straightforward 16-bit character set. Later, the codespace was expanded to make room for a long tail of less-common (but still important) Han characters, which the Unicode designers didn’t originally plan for. Surrogates were then introduced, as—to put it bluntly—a kludge, allowing 16-bit encodings to access the new code points.  Today, Javascript uses UTF-16 as its standard string representation: if you ask for the length of a string, or iterate over it, etc., the result will be in UTF-16 words, with any code points outside the BMP expressed as surrogate pairs. UTF-16 is also used by the Microsoft Win32 APIs; though Win32 supports either 8-bit or 16-bit strings, the 8-bit version unaccountably still doesn’t support UTF-8—only legacy code-page encodings, like ANSI. This leaves UTF-16 as the only way to get proper Unicode support in Windows. (Update: in Win10 version 1903, they finally added UTF-8 support to the 8-bit APIs! 😊)  By the way, UTF-16’s words can be stored either little-endian or big-endian. Unicode has no opinion on that issue, though it does encourage the convention of putting U+FEFF zero width no-break space at the top of a UTF-16 file as a byte-order mark, to disambiguate the endianness. (If the file doesn’t match the system’s endianness, the BOM will be decoded as U+FFFE, which isn’t a valid code point.)  Combining Marks In the story so far, we’ve been focusing on code points. But in Unicode, a “character” can be more complicated than just an individual code point!  Unicode includes a system for dynamically composing characters, by combining multiple code points together. This is used in various ways to gain flexibility without causing a huge combinatorial explosion in the number of code points.  In European languages, for example, this shows up in the application of diacritics to letters. Unicode supports a wide range of diacritics, including acute and grave accents, umlauts, cedillas, and many more. All these diacritics can be applied to any letter of any alphabet—and in fact, multiple diacritics can be used on a single letter.  If Unicode tried to assign a distinct code point to every possible combination of letter and diacritics, things would rapidly get out of hand. Instead, the dynamic composition system enables you to construct the character you want, by starting with a base code point (the letter) and appending additional code points, called “combining marks”, to specify the diacritics. When a text renderer sees a sequence like this in a string, it automatically stacks the diacritics over or under the base letter to create a composed character.  For example, the accented character “Á” can be expressed as a string of two code points: U+0041 “A” latin capital letter a plus U+0301 “◌́” combining acute accent. This string automatically gets rendered as a single character: “Á”.  Now, Unicode does also include many “precomposed” code points, each representing a letter with some combination of diacritics already applied, such as U+00C1 “Á” latin capital letter a with acute or U+1EC7 “ệ” latin small letter e with circumflex and dot below. I suspect these are mostly inherited from older encodings that were assimilated into Unicode, and kept around for compatibility. In practice, there are precomposed code points for most of the common letter-with-diacritic combinations in European-script languages, so they don’t use dynamic composition that much in typical text.  Still, the system of combining marks does allow for an arbitrary number of diacritics to be stacked on any base character. The reductio-ad-absurdum of this is Zalgo text, which works by ͖͟ͅr͞aṋ̫̠̖͈̗d͖̻̹óm̪͙͕̗̝ļ͇̰͓̳̫ý͓̥̟͍ ̕s̫t̫̱͕̗̰̼̘͜a̼̩͖͇̠͈̣͝c̙͍k̖̱̹͍͘i̢n̨̺̝͇͇̟͙ģ̫̮͎̻̟ͅ ̕n̼̺͈͞u̮͙m̺̭̟̗͞e̞͓̰̤͓̫r̵o̖ṷs҉̪͍̭̬̝̤ ̮͉̝̞̗̟͠d̴̟̜̱͕͚i͇̫̼̯̭̜͡ḁ͙̻̼c̲̲̹r̨̠̹̣̰̦i̱t̤̻̤͍͙̘̕i̵̜̭̤̱͎c̵s ͘o̱̲͈̙͖͇̲͢n͘ ̜͈e̬̲̠̩ac͕̺̠͉h̷̪ ̺̣͖̱ḻ̫̬̝̹ḙ̙̺͙̭͓̲t̞̞͇̲͉͍t̷͔̪͉̲̻̠͙e̦̻͈͉͇r͇̭̭̬͖,̖́ ̜͙͓̣̭s̘̘͈o̱̰̤̲ͅ ̛̬̜̙t̼̦͕̱̹͕̥h̳̲͈͝ͅa̦t̻̲ ̻̟̭̦̖t̛̰̩h̠͕̳̝̫͕e͈̤̘͖̞͘y҉̝͙ ̷͉͔̰̠o̞̰v͈͈̳̘͜er̶f̰͈͔ḻ͕̘̫̺̲o̲̭͙͠ͅw̱̳̺ ͜t̸h͇̭͕̳͍e̖̯̟̠ ͍̞̜͔̩̪͜ļ͎̪̲͚i̝̲̹̙̩̹n̨̦̩̖ḙ̼̲̼͢ͅ ̬͝s̼͚̘̞͝p͙̘̻a̙c҉͉̜̤͈̯̖i̥͡n̦̠̱͟g̸̗̻̦̭̮̟ͅ ̳̪̠͖̳̯̕a̫͜n͝d͡ ̣̦̙ͅc̪̗r̴͙̮̦̹̳e͇͚̞͔̹̫͟a̙̺̙ț͔͎̘̹ͅe̥̩͍ a͖̪̜̮͙̹n̢͉̝ ͇͉͓̦̼́a̳͖̪̤̱p̖͔͔̟͇͎͠p̱͍̺ę̲͎͈̰̲̤̫a̯͜r̨̮̫̣̘a̩̯͖n̹̦̰͎̣̞̞c̨̦̱͔͎͍͖e̬͓͘ ̤̰̩͙̤̬͙o̵̼̻̬̻͇̮̪f̴ ̡̙̭͓͖̪̤“̸͙̠̼c̳̗͜o͏̼͙͔̮r̞̫̺̞̥̬ru̺̻̯͉̭̻̯p̰̥͓̣̫̙̤͢t̳͍̳̖ͅi̶͈̝͙̼̙̹o̡͔n̙̺̹̖̩͝ͅ”̨̗͖͚̩.̯͓  A few other places where dynamic character composition shows up in Unicode:  Vowel-pointing notation in Arabic and Hebrew. In these languages, words are normally spelled with some of their vowels left out. They then have diacritic notation to indicate the vowels (used in dictionaries, language-teaching materials, children’s books, and such). These diacritics are expressed with combining marks.  A Hebrew example, with niqqud:\\tאֶת דַלְתִּי הֵזִיז הֵנִיעַ, קֶטֶב לִשְׁכַּתִּי יָשׁוֹד Normal writing (no niqqud):\\tאת דלתי הזיז הניע, קטב לשכתי ישוד Devanagari, the script used to write Hindi, Sanskrit, and many other South Asian languages, expresses certain vowels as combining marks attached to consonant letters. For example, “ह” + “\\u200bि” = “हि” (“h” + “i” = “hi”). Korean characters stand for syllables, but they are composed of letters called jamo that stand for the vowels and consonants in the syllable. While there are code points for precomposed Korean syllables, it’s also possible to dynamically compose them by concatenating their jamo. For example, “ᄒ” + “ᅡ” + “ᆫ” = “한” (“h” + “a” + “n” = “han”). Canonical Equivalence In Unicode, precomposed characters exist alongside the dynamic composition system. A consequence of this is that there are multiple ways to express “the same” string—different sequences of code points that result in the same user-perceived characters. For example, as we saw earlier, we can express the character “Á” either as the single code point U+00C1, or as the string of two code points U+0041 U+0301.  Another source of ambiguity is the ordering of multiple diacritics in a single character. Diacritic order matters visually when two diacritics apply to the same side of the base character, e.g. both above: “ǡ” (dot, then macron) is different from “ā̇” (macron, then dot). However, when diacritics apply to different sides of the character, e.g. one above and one below, then the order doesn’t affect rendering. Moreover, a character with multiple diacritics might have one of the diacritics precomposed and others expressed as combining marks.  For example, the Vietnamese letter “ệ” can be expressed in five different ways:  Fully precomposed: U+1EC7 “ệ” Partially precomposed: U+1EB9 “ẹ” + U+0302 “◌̂” Partially precomposed: U+00EA “ê” + U+0323 “◌̣” Fully decomposed: U+0065 “e” + U+0323 “◌̣” + U+0302 “◌̂” Fully decomposed: U+0065 “e” + U+0302 “◌̂” + U+0323 “◌̣” Unicode refers to set of strings like this as “canonically equivalent”. Canonically equivalent strings are supposed to be treated as identical for purposes of searching, sorting, rendering, text selection, and so on. This has implications for how you implement operations on text. For example, if an app has a “find in file” operation and the user searches for “ệ”, it should, by default, find occurrences of any of the five versions of “ệ” above!  Normalization Forms To address the problem of “how to handle canonically equivalent strings”, Unicode defines several normalization forms: ways of converting strings into a canonical form so that they can be compared code-point-by-code-point (or byte-by-byte).  The “NFD” normalization form fully decomposes every character down to its component base and combining marks, taking apart any precomposed code points in the string. It also sorts the combining marks in each character according to their rendered position, so e.g. diacritics that go below the character come before the ones that go above the character. (It doesn’t reorder diacritics in the same rendered position, since their order matters visually, as previously mentioned.)  The “NFC” form, conversely, puts things back together into precomposed code points as much as possible. If an unusual combination of diacritics is called for, there may not be any precomposed code point for it, in which case NFC still precomposes what it can and leaves any remaining combining marks in place (again ordered by rendered position, as in NFD).  There are also forms called NFKD and NFKC. The “K” here refers to compatibility decompositions, which cover characters that are “similar” in some sense but not visually identical. However, I’m not going to cover that here.  Grapheme Clusters As we’ve seen, Unicode contains various cases where a thing that a user thinks of as a single “character” might actually be made up of multiple code points under the hood. Unicode formalizes this using the notion of a grapheme cluster: a string of one or more code points that constitute a single “user-perceived character”.  UAX #29 defines the rules for what, precisely, qualifies as a grapheme cluster. It’s approximately “a base code point followed by any number of combining marks”, but the actual definition is a bit more complicated; it accounts for things like Korean jamo, and emoji ZWJ sequences.  The main thing grapheme clusters are used for is text editing: they’re often the most sensible unit for cursor placement and text selection boundaries. Using grapheme clusters for these purposes ensures that you can’t accidentally chop off some diacritics when you copy-and-paste text, that left/right arrow keys always move the cursor by one visible character, and so on.  Another place where grapheme clusters are useful is in enforcing a string length limit—say, on a database field. While the true, underlying limit might be something like the byte length of the string in UTF-8, you wouldn’t want to enforce that by just truncating bytes. At a minimum, you’d want to “round down” to the nearest code point boundary; but even better, round down to the nearest grapheme cluster boundary. Otherwise, you might be corrupting the last character by cutting off a diacritic, or interrupting a jamo sequence or ZWJ sequence.  And More… There’s much more that could be said about Unicode from a programmer’s perspective! I haven’t gotten into such fun topics as case mapping, collation, compatibility decompositions and confusables, Unicode-aware regexes, or bidirectional text. Nor have I said anything yet about implementation issues—how to efficiently store and look-up data about the sparsely-assigned code points, or how to optimize UTF-8 decoding, string comparison, or NFC normalization. Perhaps I’ll return to some of those things in future posts.  Unicode is a fascinating and complex system. It has a many-to-one mapping between bytes and code points, and on top of that a many-to-one (or, under some circumstances, many-to-many) mapping between code points and “characters”. It has oddball special cases in every corner. But no one ever claimed that representing all written languages was going to be easy, and it’s clear that we’re never going back to the bad old days of a patchwork of incompatible encodings.  Further reading:  The Unicode Standard UTF-8 Everywhere Manifesto Dark corners of Unicode by Eevee ICU (International Components for Unicode)—C/C++/Java libraries implementing many Unicode algorithms and related things Python 3 Unicode Howto Google Noto Fonts—set of fonts intended to cover all assigned code points\"\"\"\n",
    "tokens = text.encode('utf-8')\n",
    "tokens = list(map(int, tokens))\n",
    "tokens[3]"
   ]
  },
  {
   "cell_type": "code",
   "execution_count": 5,
   "metadata": {},
   "outputs": [
    {
     "name": "stdout",
     "output_type": "stream",
     "text": [
      "{(65, 32): 8, (32, 80): 10, (80, 114): 1, (114, 111): 62, (111, 103): 23, (103, 114): 25, (114, 97): 106, (97, 109): 47, (109, 109): 20, (109, 101): 69, (101, 114): 294, (114, 226): 8, (226, 128): 254, (128, 153): 64, (153, 115): 29, (115, 32): 424, (32, 73): 36, (73, 110): 15, (110, 116): 176, (116, 114): 50, (111, 100): 183, (100, 117): 8, (117, 99): 19, (99, 116): 68, (116, 105): 168, (105, 111): 76, (111, 110): 173, (110, 32): 241, (32, 116): 405, (116, 111): 124, (111, 32): 137, (32, 85): 127, (85, 110): 60, (110, 105): 98, (105, 99): 146, (99, 111): 290, (100, 101): 232, (101, 32): 646, (32, 77): 16, (77, 97): 7, (97, 114): 181, (114, 99): 11, (99, 104): 89, (104, 32): 76, (32, 51): 6, (51, 44): 2, (44, 32): 243, (32, 50): 6, (50, 48): 1, (48, 49): 7, (49, 55): 2, (55, 32): 5, (32, 194): 2, (194, 183): 2, (183, 32): 2, (32, 67): 22, (67, 111): 17, (100, 105): 88, (105, 110): 446, (110, 103): 200, (103, 32): 111, (50, 50): 1, (50, 32): 14, (111, 109): 114, (101, 110): 174, (116, 115): 102, (32, 32): 64, (32, 239): 1, (239, 188): 1, (188, 181): 1, (181, 239): 1, (239, 189): 6, (189, 142): 1, (142, 239): 1, (189, 137): 1, (137, 239): 1, (189, 131): 1, (131, 239): 1, (189, 143): 1, (143, 239): 1, (189, 132): 1, (132, 239): 1, (189, 133): 1, (133, 33): 1, (33, 32): 10, (32, 240): 4, (240, 159): 16, (159, 133): 7, (133, 164): 1, (164, 240): 1, (133, 157): 1, (157, 240): 1, (133, 152): 1, (152, 240): 1, (133, 146): 1, (146, 240): 1, (133, 158): 1, (158, 240): 1, (133, 147): 1, (147, 240): 1, (133, 148): 1, (148, 226): 1, (128, 189): 1, (189, 32): 1, (159, 135): 7, (135, 186): 1, (186, 226): 1, (128, 140): 6, (140, 240): 6, (135, 179): 1, (179, 226): 1, (135, 174): 1, (174, 226): 1, (135, 168): 1, (168, 226): 1, (135, 180): 1, (180, 226): 1, (135, 169): 1, (169, 226): 1, (135, 170): 1, (170, 33): 1, (159, 152): 2, (152, 132): 1, (132, 32): 1, (32, 84): 46, (84, 104): 40, (104, 101): 279, (32, 118): 28, (118, 101): 91, (114, 121): 26, (121, 32): 154, (32, 110): 52, (110, 97): 49, (32, 115): 222, (115, 116): 131, (114, 105): 120, (105, 107): 12, (107, 101): 20, (101, 115): 191, (32, 102): 102, (102, 101): 19, (101, 97): 60, (114, 32): 193, (32, 97): 377, (97, 110): 229, (110, 100): 137, (100, 32): 213, (97, 119): 3, (119, 101): 31, (32, 105): 230, (116, 104): 337, (32, 104): 46, (114, 116): 36, (32, 111): 220, (111, 102): 116, (102, 32): 116, (32, 112): 152, (112, 114): 61, (114, 115): 60, (32, 119): 127, (119, 111): 28, (111, 114): 218, (114, 108): 8, (108, 100): 17, (100, 119): 2, (119, 105): 41, (105, 100): 32, (101, 46): 26, (46, 32): 154, (32, 87): 15, (87, 101): 4, (97, 108): 146, (108, 108): 107, (108, 32): 87, (32, 107): 8, (107, 110): 5, (110, 111): 41, (111, 119): 57, (119, 32): 29, (111, 117): 88, (117, 103): 9, (103, 104): 22, (104, 116): 14, (116, 32): 285, (32, 226): 68, (128, 156): 71, (156, 115): 4, (115, 117): 40, (117, 112): 25, (112, 112): 26, (112, 111): 123, (101, 226): 25, (128, 157): 71, (157, 32): 53, (117, 114): 34, (115, 111): 47, (102, 116): 9, (116, 119): 7, (119, 97): 25, (114, 101): 255, (32, 40): 39, (40, 119): 1, (119, 104): 37, (104, 97): 117, (97, 116): 154, (116, 101): 221, (101, 118): 28, (32, 109): 109, (110, 115): 37, (115, 226): 14, (128, 148): 25, (148, 108): 1, (108, 105): 58, (32, 117): 46, (117, 115): 66, (115, 105): 75, (119, 99): 1, (114, 95): 1, (95, 116): 1, (102, 111): 63, (103, 115): 28, (115, 44): 71, (32, 114): 61, (105, 103): 30, (116, 63): 1, (63, 41): 1, (41, 46): 11, (32, 66): 18, (66, 117): 4, (117, 116): 54, (32, 99): 267, (99, 97): 73, (32, 98): 122, (98, 101): 51, (97, 98): 40, (98, 115): 4, (114, 117): 11, (115, 101): 146, (101, 44): 36, (32, 100): 97, (105, 118): 27, (118, 105): 13, (104, 111): 34, (115, 97): 21, (100, 45): 3, (45, 112): 8, (112, 97): 41, (97, 103): 31, (103, 101): 53, (32, 83): 12, (83, 116): 3, (116, 97): 54, (100, 97): 17, (114, 100): 25, (112, 108): 70, (108, 117): 21, (105, 116): 176, (100, 111): 24, (111, 122): 1, (122, 101): 8, (108, 101): 153, (101, 109): 42, (110, 110): 4, (110, 101): 71, (101, 120): 75, (120, 101): 6, (101, 112): 19, (111, 116): 40, (109, 111): 47, (97, 32): 93, (32, 108): 90, (116, 116): 35, (116, 108): 7, (105, 109): 26, (109, 105): 30, (103, 46): 8, (73, 32): 13, (110, 226): 21, (153, 116): 18, (98, 108): 26, (108, 97): 69, (105, 108): 46, (102, 105): 37, (111, 108): 9, (104, 105): 71, (109, 121): 2, (121, 115): 17, (32, 101): 108, (51, 48): 6, (48, 32): 7, (32, 121): 26, (121, 101): 3, (97, 102): 2, (110, 99): 64, (99, 101): 71, (112, 116): 24, (110, 46): 9, (32, 65): 34, (101, 119): 11, (104, 115): 2, (103, 111): 14, (111, 44): 3, (32, 103): 32, (101, 100): 128, (101, 99): 44, (99, 105): 16, (115, 112): 31, (112, 101): 35, (114, 110): 12, (98, 111): 28, (101, 116): 53, (97, 105): 30, (108, 46): 3, (105, 115): 96, (99, 108): 22, (73, 226): 5, (153, 108): 6, (103, 105): 10, (102, 114): 14, (109, 32): 30, (111, 105): 75, (105, 101): 29, (119, 46): 3, (153, 109): 4, (111, 99): 10, (99, 117): 16, (97, 99): 131, (116, 226): 24, (110, 118): 9, (118, 111): 6, (108, 118): 2, (114, 107): 22, (107, 105): 6, (120, 116): 29, (116, 46): 14, (32, 72): 18, (72, 111): 8, (114, 44): 21, (108, 107): 2, (107, 32): 20, (97, 121): 17, (121, 111): 25, (116, 47): 2, (47, 115): 1, (115, 104): 9, (97, 112): 38, (112, 105): 14, (103, 47): 1, (47, 114): 2, (103, 44): 13, (108, 111): 32, (105, 122): 12, (122, 97): 6, (108, 226): 1, (148, 116): 3, (111, 115): 54, (115, 115): 39, (117, 101): 22, (101, 121): 10, (115, 99): 17, (111, 112): 24, (40, 97): 5, (119, 108): 2, (100, 103): 2, (101, 41): 5, (41, 32): 17, (32, 68): 7, (68, 105): 3, (116, 121): 25, (110, 104): 4, (109, 112): 70, (120, 105): 11, (65, 108): 4, (83, 99): 2, (99, 114): 40, (105, 112): 21, (85, 115): 4, (32, 70): 20, (70, 114): 3, (101, 113): 17, (113, 117): 28, (99, 121): 6, (32, 69): 13, (69, 110): 2, (85, 84): 40, (84, 70): 40, (70, 45): 39, (45, 56): 22, (56, 32): 21, (45, 49): 16, (49, 54): 25, (54, 32): 20, (109, 98): 29, (98, 105): 55, (107, 115): 18, (67, 97): 3, (69, 113): 2, (117, 105): 8, (118, 97): 24, (32, 78): 11, (78, 111): 6, (114, 109): 26, (109, 97): 81, (70, 111): 12, (109, 115): 12, (32, 71): 5, (71, 114): 3, (112, 104): 11, (67, 108): 2, (65, 110): 5, (77, 111): 5, (128, 166): 2, (166, 32): 2, (65, 115): 5, (111, 111): 13, (97, 115): 107, (117, 32): 18, (116, 117): 11, (117, 100): 9, (100, 121): 10, (114, 103): 7, (32, 106): 13, (106, 117): 9, (117, 109): 16, (112, 32): 21, (111, 118): 19, (65, 83): 9, (83, 67): 9, (67, 73): 9, (73, 73): 9, (102, 97): 7, (105, 97): 45, (104, 46): 1, (73, 116): 11, (109, 117): 14, (110, 117): 11, (108, 116): 16, (108, 115): 19, (97, 107): 9, (120, 112): 13, (156, 99): 8, (101, 101): 25, (87, 104): 7, (110, 102): 4, (121, 44): 16, (108, 121): 69, (101, 108): 43, (108, 102): 1, (115, 107): 3, (156, 87): 1, (104, 121): 1, (115, 63): 1, (63, 32): 3, (73, 115): 4, (121, 63): 1, (117, 108): 34, (100, 110): 3, (105, 102): 20, (100, 63): 1, (63, 226): 1, (104, 102): 1, (102, 117): 8, (105, 114): 22, (100, 226): 3, (119, 114): 8, (115, 121): 15, (115, 46): 37, (105, 117): 1, (109, 226): 3, (111, 97): 1, (156, 101): 5, (101, 111): 7, (117, 110): 27, (112, 117): 9, (110, 121): 28, (103, 117): 18, (117, 97): 35, (157, 46): 7, (101, 33): 3, (84, 111): 4, (32, 49): 41, (49, 51): 3, (51, 53): 2, (53, 32): 4, (102, 102): 14, (49, 49): 19, (49, 48): 24, (48, 48): 32, (108, 44): 4, (97, 100): 18, (100, 100): 7, (100, 46): 5, (71, 105): 1, (111, 106): 4, (106, 101): 1, (98, 114): 9, (99, 99): 13, (104, 117): 2, (111, 101): 9, (115, 110): 8, (101, 45): 15, (45, 111): 5, (102, 115): 1, (110, 44): 16, (120, 99): 3, (119, 110): 7, (103, 108): 11, (98, 117): 14, (148, 119): 2, (121, 46): 4, (97, 118): 14, (105, 98): 17, (100, 108): 7, (119, 45): 1, (45, 108): 2, (117, 226): 5, (109, 46): 4, (110, 107): 4, (104, 114): 4, (101, 105): 17, (69, 109): 1, (121, 33): 1, (32, 76): 5, (76, 101): 2, (98, 97): 16, (99, 32): 10, (148, 105): 3, (157, 44): 7, (32, 113): 3, (148, 97): 6, (98, 121): 36, (120, 97): 11, (101, 102): 19, (105, 120): 6, (120, 32): 12, (156, 85): 2, (85, 43): 39, (43, 226): 1, (43, 48): 24, (48, 52): 3, (52, 49): 3, (49, 32): 9, (156, 65): 2, (65, 226): 2, (48, 51): 10, (51, 66): 1, (66, 56): 1, (156, 206): 1, (206, 184): 1, (184, 226): 1, (101, 107): 2, (115, 109): 8, (97, 46): 1, (69, 97): 2, (67, 104): 2, (68, 97): 2, (49, 44): 2, (44, 49): 2, (49, 52): 2, (52, 44): 1, (49, 50): 6, (110, 108): 8, (50, 56): 4, (56, 44): 4, (44, 50): 1, (50, 51): 4, (51, 55): 2, (50, 37): 1, (37, 32): 1, (103, 110): 8, (100, 44): 9, (119, 116): 2, (104, 33): 1, (114, 118): 3, (55, 44): 1, (44, 52): 1, (52, 54): 1, (54, 56): 1, (156, 112): 3, (114, 112): 4, (116, 44): 18, (108, 112): 2, (112, 102): 1, (66, 101): 2, (114, 114): 12, (111, 104): 1, (101, 59): 2, (59, 32): 7, (115, 113): 4, (54, 195): 1, (195, 151): 1, (151, 49): 1, (32, 61): 6, (61, 32): 6, (50, 53): 2, (53, 54): 1, (32, 54): 3, (54, 53): 5, (53, 44): 3, (44, 53): 3, (53, 51): 3, (51, 54): 3, (114, 46): 12, (40, 99): 3, (99, 107): 9, (32, 122): 5, (122, 111): 4, (109, 41): 3, (66, 108): 1, (45, 117): 4, (103, 97): 13, (40, 109): 2, (114, 41): 3, (80, 108): 5, (32, 48): 6, (156, 66): 1, (66, 97): 1, (77, 117): 2, (66, 77): 8, (77, 80): 8, (80, 46): 2, (80, 32): 5, (76, 97): 2, (67, 121): 1, (121, 114): 1, (99, 44): 3, (107, 44): 2, (72, 97): 4, (40, 67): 1, (41, 44): 4, (32, 74): 2, (74, 97): 3, (32, 75): 5, (75, 111): 5, (65, 114): 2, (72, 101): 4, (101, 98): 4, (119, 44): 3, (68, 101): 2, (105, 32): 3, (40, 73): 5, (110, 41): 3, (148, 85): 1, (116, 102): 2, (114, 119): 3, (54, 45): 6, (45, 98): 19, (49, 57): 3, (57, 57): 2, (57, 54): 2, (54, 46): 3, (97, 106): 2, (106, 111): 2, (46, 41): 4, (83, 117): 3, (69, 103): 1, (103, 121): 1, (121, 112): 4, (106, 105): 3, (121, 109): 1, (115, 45): 2, (45, 99): 5, (121, 45): 9, (52, 59): 1, (49, 53): 1, (53, 226): 1, (128, 147): 13, (147, 49): 1, (115, 58): 6, (58, 32): 19, (48, 226): 10, (147, 50): 5, (114, 45): 6, (32, 89): 2, (89, 111): 2, (40, 41): 2, (40, 116): 2, (66, 121): 2, (69, 117): 3, (77, 105): 2, (83, 111): 2, (112, 121): 2, (73, 46): 2, (121, 226): 5, (115, 108): 5, (100, 41): 2, (32, 79): 2, (79, 110): 1, (111, 107): 3, (100, 115): 8, (108, 45): 2, (45, 119): 4, (87, 105): 5, (84, 119): 1, (115, 41): 2, (40, 110): 3, (80, 44): 1, (49, 226): 1, (50, 46): 1, (103, 103): 1, (105, 44): 3, (49, 46): 2, (153, 118): 3, (43, 49): 8, (48, 70): 3, (70, 70): 21, (70, 46): 1, (121, 116): 22, (101, 63): 1, (45, 102): 2, (116, 41): 3, (51, 50): 10, (50, 45): 4, (101, 103): 7, (32, 52): 2, (52, 32): 2, (114, 102): 1, (100, 116): 3, (104, 45): 2, (45, 51): 2, (40, 85): 2, (70, 32): 8, (84, 114): 1, (115, 102): 1, (157, 41): 3, (65, 116): 2, (103, 116): 7, (32, 56): 4, (56, 45): 4, (56, 47): 1, (47, 49): 1, (105, 45): 1, (120, 46): 1, (119, 115): 4, (40, 98): 5, (121, 41): 5, (41, 9): 4, (9, 67): 2, (9, 82): 2, (82, 97): 2, (48, 120): 6, (120, 120): 78, (120, 9): 4, (9, 120): 6, (9, 85): 6, (147, 85): 7, (48, 55): 2, (55, 70): 2, (48, 121): 3, (121, 121): 48, (121, 9): 3, (120, 121): 4, (48, 56): 2, (56, 48): 3, (48, 122): 2, (122, 122): 20, (122, 9): 2, (121, 122): 2, (43, 70): 4, (122, 32): 1, (48, 119): 1, (119, 119): 10, (119, 9): 2, (122, 119): 1, (40, 65): 1, (110, 45): 3, (45, 65): 2, (56, 226): 2, (53, 53): 1, (53, 46): 1, (70, 105): 1, (108, 114): 2, (83, 101): 1, (148, 115): 3, (116, 99): 5, (99, 46): 2, (41, 226): 2, (65, 80): 3, (80, 73): 3, (120, 47): 1, (47, 76): 1, (76, 105): 2, (117, 120): 1, (98, 32): 1, (97, 117): 6, (121, 119): 2, (100, 114): 3, (112, 45): 1, (45, 105): 1, (40, 111): 3, (121, 98): 1, (148, 109): 1, (156, 108): 1, (104, 226): 3, (153, 114): 5, (32, 120): 1, (49, 121): 1, (32, 43): 13, (43, 32): 13, (120, 49): 1, (48, 9): 1, (104, 44): 1, (43, 68): 2, (68, 56): 1, (68, 70): 1, (70, 226): 1, (148, 111): 2, (116, 33): 2, (72, 105): 2, (157, 59): 1, (107, 108): 1, (110, 58): 1, (46, 44): 1, (110, 51): 2, (115, 59): 1, (65, 78): 1, (78, 83): 1, (83, 73): 1, (85, 112): 1, (112, 100): 1, (101, 58): 3, (110, 49): 1, (57, 48): 1, (115, 33): 1, (152, 138): 1, (138, 41): 1, (54, 226): 1, (45, 101): 2, (103, 45): 1, (70, 69): 2, (69, 70): 1, (111, 45): 5, (73, 102): 3, (66, 79): 1, (79, 77): 1, (77, 32): 1, (69, 44): 1, (121, 110): 6, (102, 108): 2, (99, 115): 20, (109, 108): 1, (102, 121): 1, (156, 195): 5, (195, 129): 4, (129, 226): 5, (156, 226): 9, (226, 151): 7, (151, 140): 7, (140, 204): 7, (204, 129): 3, (114, 58): 2, (48, 67): 2, (67, 49): 2, (49, 69): 3, (69, 67): 2, (67, 55): 2, (156, 225): 9, (225, 187): 5, (187, 135): 5, (135, 226): 6, (109, 102): 1, (45, 100): 1, (45, 115): 1, (114, 98): 1, (45, 97): 5, (32, 90): 3, (90, 97): 1, (108, 103): 2, (32, 205): 5, (205, 150): 14, (150, 205): 7, (205, 159): 3, (159, 205): 7, (205, 133): 11, (133, 114): 1, (114, 205): 2, (205, 158): 3, (158, 97): 1, (97, 225): 1, (225, 185): 2, (185, 139): 1, (139, 204): 1, (204, 171): 16, (171, 204): 9, (204, 160): 12, (160, 204): 5, (204, 150): 11, (205, 136): 15, (136, 204): 8, (204, 151): 9, (151, 100): 1, (100, 205): 2, (150, 204): 11, (204, 187): 14, (187, 204): 12, (204, 185): 15, (185, 195): 1, (195, 179): 1, (179, 109): 1, (109, 204): 2, (204, 170): 12, (170, 205): 4, (205, 153): 18, (153, 205): 7, (205, 149): 10, (149, 204): 8, (151, 204): 4, (204, 157): 10, (157, 196): 1, (196, 188): 2, (188, 205): 5, (205, 135): 14, (135, 204): 9, (204, 176): 13, (176, 205): 3, (205, 147): 11, (147, 204): 8, (204, 179): 13, (179, 204): 9, (171, 195): 1, (195, 189): 1, (189, 205): 1, (204, 165): 6, (165, 204): 3, (204, 159): 10, (205, 141): 12, (141, 32): 2, (32, 204): 14, (204, 149): 4, (149, 115): 1, (115, 204): 3, (171, 116): 1, (116, 204): 9, (204, 177): 14, (177, 205): 6, (176, 204): 9, (204, 188): 14, (188, 204): 9, (204, 152): 11, (152, 205): 4, (205, 156): 7, (156, 97): 3, (97, 204): 8, (204, 169): 11, (169, 205): 4, (160, 205): 6, (204, 163): 11, (163, 205): 2, (205, 157): 6, (157, 99): 1, (99, 204): 6, (204, 153): 13, (141, 107): 1, (107, 204): 1, (177, 204): 5, (185, 205): 3, (141, 205): 3, (205, 152): 5, (152, 105): 1, (105, 204): 6, (204, 162): 2, (162, 110): 2, (110, 204): 7, (204, 168): 6, (168, 204): 6, (204, 186): 13, (186, 204): 9, (157, 205): 5, (135, 205): 4, (153, 196): 1, (196, 163): 1, (163, 204): 7, (204, 174): 9, (174, 205): 4, (205, 142): 8, (142, 204): 4, (133, 32): 4, (149, 110): 1, (186, 205): 2, (136, 205): 5, (158, 117): 1, (117, 204): 2, (204, 173): 14, (173, 204): 9, (159, 204): 4, (151, 205): 3, (158, 101): 1, (101, 204): 6, (204, 158): 13, (158, 205): 5, (204, 164): 14, (164, 205): 4, (171, 114): 1, (114, 204): 6, (204, 181): 4, (181, 111): 1, (111, 204): 7, (150, 225): 2, (185, 183): 1, (183, 115): 1, (115, 210): 1, (210, 137): 3, (137, 204): 7, (141, 204): 4, (204, 172): 10, (172, 204): 5, (157, 204): 6, (164, 32): 1, (205, 137): 10, (158, 204): 7, (205, 160): 3, (160, 100): 1, (100, 204): 1, (204, 180): 3, (180, 204): 1, (204, 156): 9, (156, 204): 6, (149, 205): 1, (205, 154): 5, (154, 105): 2, (105, 205): 1, (204, 175): 9, (175, 204): 4, (156, 205): 4, (205, 161): 3, (161, 225): 1, (225, 184): 5, (184, 129): 1, (129, 205): 1, (153, 204): 19, (188, 99): 2, (204, 178): 18, (178, 204): 8, (185, 114): 1, (185, 204): 6, (204, 166): 13, (166, 105): 1, (177, 116): 1, (164, 204): 8, (152, 204): 6, (149, 105): 1, (181, 204): 2, (142, 99): 1, (181, 115): 1, (152, 111): 1, (178, 205): 7, (205, 162): 3, (110, 205): 2, (152, 32): 2, (136, 101): 1, (169, 97): 1, (99, 205): 1, (137, 104): 1, (104, 204): 3, (204, 183): 3, (183, 204): 1, (170, 32): 3, (177, 225): 1, (184, 187): 2, (185, 225): 1, (184, 153): 2, (173, 205): 4, (178, 116): 1, (137, 205): 5, (141, 116): 1, (183, 205): 2, (205, 148): 11, (148, 204): 6, (153, 101): 1, (166, 204): 10, (187, 205): 3, (135, 114): 1, (172, 205): 4, (150, 44): 1, (44, 204): 1, (129, 32): 1, (173, 115): 1, (136, 111): 1, (204, 155): 2, (155, 204): 2, (166, 205): 1, (165, 104): 1, (133, 97): 1, (166, 116): 1, (178, 32): 1, (150, 116): 1, (169, 104): 1, (171, 205): 3, (149, 101): 1, (101, 205): 2, (152, 121): 1, (121, 210): 1, (153, 32): 5, (160, 111): 1, (176, 118): 1, (118, 205): 1, (204, 182): 2, (182, 102): 1, (102, 204): 2, (148, 225): 1, (178, 111): 1, (133, 119): 1, (119, 204): 1, (186, 32): 1, (156, 116): 2, (204, 184): 3, (184, 104): 1, (104, 205): 1, (179, 205): 3, (141, 101): 1, (160, 32): 1, (169, 204): 4, (156, 196): 2, (170, 204): 6, (185, 110): 2, (162, 205): 2, (157, 115): 1, (154, 204): 3, (157, 112): 1, (112, 205): 1, (187, 97): 1, (153, 99): 1, (99, 210): 1, (150, 105): 1, (165, 205): 2, (161, 110): 1, (159, 103): 1, (103, 204): 1, (184, 204): 1, (174, 204): 4, (149, 97): 1, (156, 110): 2, (157, 100): 1, (161, 32): 1, (133, 99): 1, (151, 114): 1, (180, 205): 1, (179, 101): 1, (159, 97): 1, (153, 200): 1, (200, 155): 1, (155, 205): 1, (148, 205): 3, (133, 101): 1, (97, 205): 1, (129, 97): 1, (177, 112): 1, (112, 204): 3, (142, 205): 3, (160, 112): 1, (186, 196): 1, (196, 153): 1, (171, 97): 1, (175, 205): 4, (156, 114): 2, (152, 97): 1, (150, 110): 1, (158, 99): 1, (150, 101): 1, (147, 205): 2, (153, 111): 1, (170, 102): 1, (180, 32): 1, (204, 161): 2, (161, 204): 1, (164, 226): 1, (184, 205): 1, (156, 111): 1, (111, 205): 1, (205, 143): 1, (143, 204): 1, (174, 114): 1, (172, 114): 1, (175, 112): 1, (162, 116): 1, (133, 105): 1, (182, 205): 1, (185, 111): 1, (161, 205): 1, (148, 110): 1, (133, 226): 1, (169, 46): 1, (46, 204): 1, (147, 32): 3, (32, 86): 2, (86, 111): 1, (40, 117): 1, (45, 116): 4, (104, 41): 1, (105, 113): 2, (113, 113): 2, (100, 58): 6, (58, 9): 2, (9, 215): 2, (215, 144): 2, (144, 214): 1, (214, 182): 3, (182, 215): 3, (215, 170): 6, (32, 215): 12, (215, 147): 4, (147, 214): 1, (214, 183): 3, (183, 215): 1, (215, 156): 4, (156, 214): 2, (214, 176): 2, (176, 215): 2, (170, 214): 2, (214, 180): 5, (180, 214): 2, (214, 188): 3, (188, 215): 3, (215, 153): 10, (215, 148): 4, (148, 214): 2, (214, 181): 2, (181, 215): 2, (215, 150): 4, (150, 214): 1, (180, 215): 3, (153, 215): 5, (150, 32): 2, (215, 160): 2, (160, 214): 1, (215, 162): 2, (162, 214): 1, (183, 44): 1, (215, 167): 2, (167, 214): 1, (215, 152): 2, (152, 214): 1, (215, 145): 2, (145, 32): 2, (215, 169): 4, (169, 214): 1, (215, 129): 2, (129, 215): 2, (215, 155): 2, (155, 214): 1, (183, 214): 1, (153, 214): 1, (214, 184): 1, (184, 215): 1, (169, 215): 3, (215, 149): 2, (149, 214): 1, (214, 185): 1, (185, 215): 1, (41, 58): 1, (144, 215): 1, (147, 215): 1, (156, 215): 2, (170, 215): 2, (148, 215): 2, (150, 215): 1, (160, 215): 1, (162, 44): 1, (167, 215): 1, (152, 215): 1, (155, 215): 1, (149, 215): 1, (83, 97): 1, (107, 114): 1, (156, 224): 2, (224, 164): 4, (164, 185): 2, (185, 226): 2, (128, 139): 1, (139, 224): 1, (164, 191): 2, (191, 226): 2, (185, 224): 1, (40, 226): 2, (156, 104): 5, (156, 105): 1, (105, 226): 2, (121, 108): 3, (106, 97): 4, (111, 46): 1, (225, 132): 1, (132, 146): 1, (146, 226): 1, (225, 133): 1, (133, 161): 1, (161, 226): 2, (225, 134): 1, (134, 171): 1, (171, 226): 1, (156, 237): 1, (237, 149): 1, (149, 156): 1, (97, 226): 1, (103, 226): 1, (148, 100): 1, (46, 103): 3, (156, 199): 1, (199, 161): 1, (40, 100): 1, (196, 129): 1, (129, 204): 1, (204, 135): 1, (86, 105): 1, (116, 110): 1, (70, 117): 4, (80, 97): 2, (69, 66): 1, (66, 57): 1, (57, 32): 2, (225, 186): 1, (186, 185): 1, (48, 50): 3, (204, 130): 3, (130, 226): 3, (48, 69): 1, (69, 65): 1, (195, 170): 1, (170, 226): 1, (51, 32): 4, (163, 226): 3, (48, 54): 2, (156, 102): 1, (111, 98): 1, (116, 45): 1, (156, 78): 2, (78, 70): 7, (70, 68): 2, (68, 226): 1, (70, 67): 3, (67, 226): 1, (109, 44): 2, (67, 32): 2, (68, 41): 1, (70, 75): 2, (75, 68): 1, (68, 32): 1, (75, 67): 1, (67, 46): 1, (156, 75): 1, (75, 226): 1, (156, 117): 1, (85, 65): 1, (65, 88): 1, (88, 32): 1, (32, 35): 1, (35, 50): 1, (50, 57): 1, (111, 120): 1, (100, 59): 1, (90, 87): 2, (87, 74): 2, (74, 32): 2, (103, 58): 2, (108, 119): 1, (121, 105): 1, (153, 100): 1, (121, 59): 1, (79, 116): 1, (148, 104): 1, (107, 45): 1, (80, 101): 1, (114, 104): 1, (112, 115): 1, (45, 109): 1, (100, 98): 1, (104, 119): 1, (69, 118): 1, (69, 101): 1, (73, 67): 1, (67, 85): 1, (85, 32): 1, (148, 67): 1, (67, 47): 1, (47, 67): 1, (67, 43): 1, (43, 43): 1, (43, 47): 1, (47, 74): 1, (104, 109): 1, (80, 121): 1, (71, 111): 1}\n"
     ]
    }
   ],
   "source": [
    "def byte_pairs(tokens):\n",
    "    pairs = {}\n",
    "    for pair in zip(tokens, tokens[1:]):\n",
    "        pairs[pair] = pairs.get(pair, 0) + 1\n",
    "    return pairs            \n",
    "\n",
    "stats = byte_pairs(tokens= tokens)\n",
    "print(stats)"
   ]
  },
  {
   "cell_type": "code",
   "execution_count": 6,
   "metadata": {},
   "outputs": [
    {
     "data": {
      "text/plain": [
       "(101, 32)"
      ]
     },
     "execution_count": 6,
     "metadata": {},
     "output_type": "execute_result"
    }
   ],
   "source": [
    "top_pair = max(stats, key=stats.get)\n",
    "top_pair"
   ]
  },
  {
   "cell_type": "code",
   "execution_count": 7,
   "metadata": {},
   "outputs": [
    {
     "name": "stdout",
     "output_type": "stream",
     "text": [
      "24597\n",
      "23951\n"
     ]
    }
   ],
   "source": [
    "def merge(ids, pair, idx):\n",
    "    newids = []\n",
    "    id = 0\n",
    "    while id<len(ids):\n",
    "        if id< len(ids)-1 and ids[id] == pair[0] and ids[id+1]==pair[1]:\n",
    "            newids.append(idx)\n",
    "            id+=2\n",
    "        else:\n",
    "            newids.append(ids[id])\n",
    "            id+=1\n",
    "            \n",
    "    return newids\n",
    "\n",
    "\n",
    "tokens2 = merge(tokens, top_pair, 256)\n",
    "print(len(tokens))\n",
    "print(len(tokens2))"
   ]
  },
  {
   "cell_type": "code",
   "execution_count": 8,
   "metadata": {},
   "outputs": [],
   "source": [
    "vocab_size = 500\n",
    "num_merges = vocab_size - 256\n",
    "ids = list(tokens)\n",
    "\n",
    "merges = {}\n",
    "\n",
    "for i in range(num_merges):\n",
    "    stats = byte_pairs(ids)\n",
    "    pair = max(stats, key=stats.get)\n",
    "    idx = 256 + i\n",
    "    ids = merge(ids, pair, idx)\n",
    "    merges[pair] = idx"
   ]
  },
  {
   "cell_type": "code",
   "execution_count": 9,
   "metadata": {},
   "outputs": [
    {
     "data": {
      "text/plain": [
       "{(101, 32): 256,\n",
       " (105, 110): 257,\n",
       " (115, 32): 258,\n",
       " (116, 104): 259,\n",
       " (101, 114): 260,\n",
       " (99, 111): 261,\n",
       " (116, 32): 262,\n",
       " (226, 128): 263,\n",
       " (44, 32): 264,\n",
       " (97, 110): 265,\n",
       " (111, 114): 266,\n",
       " (100, 32): 267,\n",
       " (97, 114): 268,\n",
       " (101, 110): 269,\n",
       " (257, 103): 270,\n",
       " (261, 100): 271,\n",
       " (121, 32): 272,\n",
       " (46, 32): 273,\n",
       " (97, 108): 274,\n",
       " (259, 256): 275,\n",
       " (111, 110): 276,\n",
       " (111, 32): 277,\n",
       " (116, 105): 278,\n",
       " (97, 99): 279,\n",
       " (101, 115): 280,\n",
       " (111, 102): 281,\n",
       " (271, 256): 282,\n",
       " (112, 111): 283,\n",
       " (270, 32): 284,\n",
       " (281, 32): 285,\n",
       " (101, 267): 286,\n",
       " (116, 260): 287,\n",
       " (116, 277): 288,\n",
       " (257, 32): 289,\n",
       " (97, 32): 290,\n",
       " (266, 32): 291,\n",
       " (115, 116): 292,\n",
       " (111, 117): 293,\n",
       " (99, 104): 294,\n",
       " (120, 120): 295,\n",
       " (101, 120): 296,\n",
       " (101, 258): 297,\n",
       " (263, 156): 298,\n",
       " (263, 157): 299,\n",
       " (261, 109): 300,\n",
       " (265, 267): 301,\n",
       " (112, 108): 302,\n",
       " (105, 116): 303,\n",
       " (283, 257): 304,\n",
       " (114, 101): 305,\n",
       " (263, 153): 306,\n",
       " (110, 105): 307,\n",
       " (274, 108): 308,\n",
       " (97, 116): 309,\n",
       " (260, 32): 310,\n",
       " (105, 258): 311,\n",
       " (282, 304): 312,\n",
       " (97, 258): 313,\n",
       " (85, 307): 314,\n",
       " (278, 276): 315,\n",
       " (100, 105): 316,\n",
       " (111, 119): 317,\n",
       " (116, 258): 318,\n",
       " (117, 115): 319,\n",
       " (299, 32): 320,\n",
       " (114, 105): 321,\n",
       " (115, 101): 322,\n",
       " (115, 105): 323,\n",
       " (97, 109): 324,\n",
       " (97, 262): 325,\n",
       " (114, 111): 326,\n",
       " (314, 282): 327,\n",
       " (115, 264): 328,\n",
       " (121, 121): 329,\n",
       " (108, 108): 330,\n",
       " (273, 32): 331,\n",
       " (265, 32): 332,\n",
       " (108, 101): 333,\n",
       " (294, 268): 334,\n",
       " (279, 287): 335,\n",
       " (84, 104): 336,\n",
       " (102, 291): 337,\n",
       " (97, 98): 338,\n",
       " (334, 335): 339,\n",
       " (85, 84): 340,\n",
       " (340, 70): 341,\n",
       " (119, 105): 342,\n",
       " (341, 45): 343,\n",
       " (85, 43): 344,\n",
       " (268, 256): 345,\n",
       " (259, 325): 346,\n",
       " (97, 112): 347,\n",
       " (119, 104): 348,\n",
       " (101, 109): 349,\n",
       " (115, 117): 350,\n",
       " (105, 99): 351,\n",
       " (274, 32): 352,\n",
       " (97, 115): 353,\n",
       " (32, 285): 354,\n",
       " (32, 298): 355,\n",
       " (105, 262): 356,\n",
       " (111, 109): 357,\n",
       " (118, 260): 358,\n",
       " (292, 114): 359,\n",
       " (101, 264): 360,\n",
       " (108, 256): 361,\n",
       " (278, 99): 362,\n",
       " (48, 48): 363,\n",
       " (97, 103): 364,\n",
       " (97, 315): 365,\n",
       " (261, 110): 366,\n",
       " (101, 108): 367,\n",
       " (295, 295): 368,\n",
       " (306, 258): 369,\n",
       " (98, 256): 370,\n",
       " (294, 32): 371,\n",
       " (269, 32): 372,\n",
       " (259, 32): 373,\n",
       " (113, 117): 374,\n",
       " (114, 280): 375,\n",
       " (312, 318): 376,\n",
       " (116, 296): 377,\n",
       " (263, 148): 378,\n",
       " (280, 264): 379,\n",
       " (330, 32): 380,\n",
       " (276, 32): 381,\n",
       " (49, 54): 382,\n",
       " (98, 257): 383,\n",
       " (308, 272): 384,\n",
       " (273, 336): 385,\n",
       " (300, 283): 386,\n",
       " (121, 293): 387,\n",
       " (100, 101): 388,\n",
       " (265, 272): 389,\n",
       " (279, 321): 390,\n",
       " (390, 362): 391,\n",
       " (103, 104): 392,\n",
       " (102, 105): 393,\n",
       " (343, 56): 394,\n",
       " (266, 109): 395,\n",
       " (260, 256): 396,\n",
       " (312, 116): 397,\n",
       " (269, 271): 398,\n",
       " (98, 121): 399,\n",
       " (316, 391): 400,\n",
       " (103, 114): 401,\n",
       " (32, 288): 402,\n",
       " (119, 266): 403,\n",
       " (265, 103): 404,\n",
       " (259, 310): 405,\n",
       " (70, 70): 406,\n",
       " (269, 116): 407,\n",
       " (109, 266): 408,\n",
       " (112, 101): 409,\n",
       " (117, 108): 410,\n",
       " (112, 305): 411,\n",
       " (399, 116): 412,\n",
       " (122, 122): 413,\n",
       " (32, 115): 414,\n",
       " (108, 105): 415,\n",
       " (269, 262): 416,\n",
       " (112, 375): 417,\n",
       " (109, 97): 418,\n",
       " (49, 49): 419,\n",
       " (153, 204): 420,\n",
       " (112, 326): 421,\n",
       " (273, 73): 422,\n",
       " (110, 32): 423,\n",
       " (342, 373): 424,\n",
       " (112, 279): 425,\n",
       " (269, 99): 426,\n",
       " (117, 114): 427,\n",
       " (32, 32): 428,\n",
       " (359, 270): 429,\n",
       " (306, 262): 430,\n",
       " (116, 97): 431,\n",
       " (115, 277): 432,\n",
       " (289, 275): 433,\n",
       " (333, 116): 434,\n",
       " (101, 105): 435,\n",
       " (329, 329): 436,\n",
       " (204, 178): 437,\n",
       " (240, 159): 438,\n",
       " (308, 32): 439,\n",
       " (317, 32): 440,\n",
       " (117, 262): 441,\n",
       " (99, 332): 442,\n",
       " (110, 111): 443,\n",
       " (408, 256): 444,\n",
       " (293, 262): 445,\n",
       " (105, 108): 446,\n",
       " (118, 256): 447,\n",
       " (394, 32): 448,\n",
       " (121, 264): 449,\n",
       " (117, 110): 450,\n",
       " (99, 108): 451,\n",
       " (115, 273): 452,\n",
       " (434, 287): 453,\n",
       " (115, 286): 454,\n",
       " (300, 383): 455,\n",
       " (400, 258): 456,\n",
       " (204, 171): 457,\n",
       " (259, 311): 458,\n",
       " (100, 260): 459,\n",
       " (280, 425): 460,\n",
       " (343, 382): 461,\n",
       " (387, 32): 462,\n",
       " (117, 109): 463,\n",
       " (110, 101): 464,\n",
       " (302, 256): 465,\n",
       " (108, 272): 466,\n",
       " (45, 98): 467,\n",
       " (205, 136): 468,\n",
       " (118, 310): 469,\n",
       " (265, 100): 470,\n",
       " (268, 107): 471,\n",
       " (313, 290): 472,\n",
       " (105, 109): 473,\n",
       " (108, 404): 474,\n",
       " (474, 117): 475,\n",
       " (475, 364): 476,\n",
       " (348, 105): 477,\n",
       " (477, 371): 478,\n",
       " (98, 272): 479,\n",
       " (32, 344): 480,\n",
       " (205, 150): 481,\n",
       " (205, 135): 482,\n",
       " (32, 204): 483,\n",
       " (204, 177): 484,\n",
       " (32, 301): 485,\n",
       " (350, 112): 486,\n",
       " (112, 266): 487,\n",
       " (314, 271): 488,\n",
       " (107, 256): 489,\n",
       " (284, 109): 490,\n",
       " (115, 357): 491,\n",
       " (377, 262): 492,\n",
       " (105, 115): 493,\n",
       " (303, 272): 494,\n",
       " (374, 426): 495,\n",
       " (100, 256): 496,\n",
       " (312, 262): 497,\n",
       " (467, 356): 498,\n",
       " (263, 147): 499}"
      ]
     },
     "execution_count": 9,
     "metadata": {},
     "output_type": "execute_result"
    }
   ],
   "source": [
    "merges"
   ]
  },
  {
   "cell_type": "code",
   "execution_count": 10,
   "metadata": {},
   "outputs": [
    {
     "data": {
      "text/plain": [
       "(24597, 11590, 2.122260569456428)"
      ]
     },
     "execution_count": 10,
     "metadata": {},
     "output_type": "execute_result"
    }
   ],
   "source": [
    "len(tokens), len(ids), len(tokens)/len(ids)"
   ]
  },
  {
   "cell_type": "code",
   "execution_count": 11,
   "metadata": {},
   "outputs": [
    {
     "name": "stdout",
     "output_type": "stream",
     "text": [
      "PFD\n"
     ]
    }
   ],
   "source": [
    "vocab = {idx: bytes([idx]) for idx in range(256)}\n",
    "for (p0, p1), idx in merges.items():\n",
    "    vocab[idx] = vocab[p0] + vocab[p1]\n",
    "    \n",
    "def decode(ids):\n",
    "    tokens = b\"\".join(vocab[idx] for idx in ids)\n",
    "    text = tokens.decode(\"utf-8\", errors=\"replace\")\n",
    "    return text\n",
    "\n",
    "print(decode([80, 70, 68]))"
   ]
  },
  {
   "cell_type": "code",
   "execution_count": 15,
   "metadata": {},
   "outputs": [
    {
     "name": "stdout",
     "output_type": "stream",
     "text": [
      "[80, 70, 68]\n"
     ]
    }
   ],
   "source": [
    "def encode(text):\n",
    "    tokens = list(text.encode(\"utf-8\"))\n",
    "    \n",
    "    while len(tokens)>=2:\n",
    "        stats = byte_pairs(tokens)\n",
    "        pair = min(stats, key = lambda p: merges.get(p, float(\"inf\")))\n",
    "        if pair not in merges:\n",
    "            break\n",
    "        idx = merges[pair]\n",
    "        tokens = merges(tokens, pair, idx)\n",
    "        \n",
    "    return tokens\n",
    "        \n",
    "        \n",
    "print(encode(\"PFD\"))"
   ]
  },
  {
   "cell_type": "code",
   "execution_count": null,
   "metadata": {},
   "outputs": [],
   "source": []
  }
 ],
 "metadata": {
  "kernelspec": {
   "display_name": "ML",
   "language": "python",
   "name": "python3"
  },
  "language_info": {
   "codemirror_mode": {
    "name": "ipython",
    "version": 3
   },
   "file_extension": ".py",
   "mimetype": "text/x-python",
   "name": "python",
   "nbconvert_exporter": "python",
   "pygments_lexer": "ipython3",
   "version": "3.12.3"
  }
 },
 "nbformat": 4,
 "nbformat_minor": 2
}
